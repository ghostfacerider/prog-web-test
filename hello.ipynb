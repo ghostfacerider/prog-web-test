{
 "cells": [
  {
   "cell_type": "code",
   "execution_count": null,
   "source": [],
   "outputs": [],
   "metadata": {}
  },
  {
   "cell_type": "code",
   "execution_count": 2,
   "source": [
    "console.log(\"hello world\")"
   ],
   "outputs": [
    {
     "output_type": "stream",
     "name": "stdout",
     "text": [
      "hello world\n"
     ]
    }
   ],
   "metadata": {}
  },
  {
   "cell_type": "markdown",
   "source": [],
   "metadata": {}
  },
  {
   "cell_type": "code",
   "execution_count": 2,
   "source": [
    "var myName = \"gendy\" \r\n",
    "console.log(\"hello,\",myName)"
   ],
   "outputs": [
    {
     "output_type": "stream",
     "name": "stdout",
     "text": [
      "hello, gendy\n"
     ]
    }
   ],
   "metadata": {}
  },
  {
   "cell_type": "code",
   "execution_count": 1,
   "source": [
    "Math.floor(5/2)"
   ],
   "outputs": [
    {
     "output_type": "execute_result",
     "data": {
      "text/plain": [
       "2"
      ]
     },
     "metadata": {},
     "execution_count": 1
    }
   ],
   "metadata": {}
  },
  {
   "cell_type": "code",
   "execution_count": 2,
   "source": [
    "//remove some decimal points\r\n",
    "Math.PI.toFixed(5)"
   ],
   "outputs": [
    {
     "output_type": "execute_result",
     "data": {
      "text/plain": [
       "'3.14159'"
      ]
     },
     "metadata": {},
     "execution_count": 2
    }
   ],
   "metadata": {}
  },
  {
   "cell_type": "code",
   "execution_count": 5,
   "source": [
    "//hexadecimal\r\n",
    "var hex = 0x1234\r\n",
    "var dec = 1234\r\n",
    "console.log(hex, dec, hex.toString(2)) "
   ],
   "outputs": [
    {
     "output_type": "stream",
     "name": "stdout",
     "text": [
      "4660 1234 1001000110100\n"
     ]
    }
   ],
   "metadata": {}
  },
  {
   "cell_type": "code",
   "execution_count": 7,
   "source": [
    "// different data types\r\n",
    "2 + \"8\""
   ],
   "outputs": [
    {
     "output_type": "execute_result",
     "data": {
      "text/plain": [
       "'28'"
      ]
     },
     "metadata": {},
     "execution_count": 7
    }
   ],
   "metadata": {}
  },
  {
   "cell_type": "code",
   "execution_count": 8,
   "source": [
    "// string concatenation\r\n",
    "\"hello,\" + \"something\"\r\n",
    "\"2\" + \"8\""
   ],
   "outputs": [
    {
     "output_type": "execute_result",
     "data": {
      "text/plain": [
       "'28'"
      ]
     },
     "metadata": {},
     "execution_count": 8
    }
   ],
   "metadata": {}
  },
  {
   "cell_type": "code",
   "execution_count": 9,
   "source": [
    "//fidderent uses of console.log\r\n",
    "// simple text\r\n",
    "console.log(\"some test\")"
   ],
   "outputs": [
    {
     "output_type": "stream",
     "name": "stdout",
     "text": [
      "some test\n"
     ]
    }
   ],
   "metadata": {}
  },
  {
   "cell_type": "code",
   "execution_count": 20,
   "source": [
    "// variable\r\n",
    "var num = 12345\r\n",
    "console.log(num)\r\n",
    "\r\n",
    "// multipe items \r\n",
    "console.log( \"some text\", num, \"some more text\",)\r\n",
    "\r\n",
    "//variable substition\r\n",
    "console.log(\"num = %i\", num)\r\n",
    "\r\n",
    "var firstName = \"bob\"\r\n",
    "var lastname = \"Jones\"\r\n",
    "var studentID = \"w12345\"\r\n",
    "console.log(\"Name: %s %s, ID: %S\", firstName, lastname, studentID)\r\n",
    "\r\n",
    "\r\n",
    "//newer variable substitution\r\n",
    "var firstName = \"bob\"\r\n",
    "var lastname = \"Jones\"\r\n",
    "var studentID = \"w12345\"\r\n",
    "console.log(`Name: ${firstName} ${lastname}, ID: ${studentID}`)"
   ],
   "outputs": [
    {
     "output_type": "stream",
     "name": "stdout",
     "text": [
      "12345\n",
      "some text 12345 some more text\n",
      "num = 12345\n",
      "Name: bob Jones, ID: %S w12345\n",
      "Name: bob Jones, ID: w12345\n"
     ]
    }
   ],
   "metadata": {}
  },
  {
   "cell_type": "code",
   "execution_count": 21,
   "source": [
    "//repeat characters \r\n",
    "\"-*-\".repeat(10)"
   ],
   "outputs": [
    {
     "output_type": "execute_result",
     "data": {
      "text/plain": [
       "'-*--*--*--*--*--*--*--*--*--*-'"
      ]
     },
     "metadata": {},
     "execution_count": 21
    }
   ],
   "metadata": {}
  },
  {
   "cell_type": "code",
   "execution_count": null,
   "source": [],
   "outputs": [],
   "metadata": {}
  }
 ],
 "metadata": {
  "kernelspec": {
   "display_name": "Javascript (Node.js)",
   "language": "javascript",
   "name": "javascript"
  },
  "language_info": {
   "file_extension": ".js",
   "mimetype": "application/javascript",
   "name": "javascript",
   "version": "16.9.1"
  }
 },
 "nbformat": 4,
 "nbformat_minor": 4
}