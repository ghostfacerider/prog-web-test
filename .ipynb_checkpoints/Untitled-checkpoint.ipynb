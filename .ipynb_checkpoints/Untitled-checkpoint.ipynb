{
 "cells": [
  {
   "cell_type": "code",
   "execution_count": 1,
   "id": "1a26000d-1057-4d4b-8fae-56bdc8b02793",
   "metadata": {},
   "outputs": [
    {
     "data": {
      "text/plain": [
       "false"
      ]
     },
     "execution_count": 1,
     "metadata": {},
     "output_type": "execute_result"
    }
   ],
   "source": [
    "false"
   ]
  },
  {
   "cell_type": "code",
   "execution_count": 3,
   "id": "0949a9d8-7bfc-46c8-ba68-78b044813e89",
   "metadata": {},
   "outputs": [
    {
     "name": "stdout",
     "output_type": "stream",
     "text": [
      "true\n"
     ]
    }
   ],
   "source": [
    "\n",
    "var myBoolean = true\n",
    "console.log(myBoolean)"
   ]
  },
  {
   "cell_type": "code",
   "execution_count": 5,
   "id": "88dd275e-a910-43b6-b0f4-90d1cf7c0da6",
   "metadata": {},
   "outputs": [],
   "source": [
    "// not a boolean\n",
    "var yesString = \"yes\"\n",
    "var noNumber = 1"
   ]
  },
  {
   "cell_type": "code",
   "execution_count": 7,
   "id": "47ebe727-56f3-4f31-bec8-5c64080a9962",
   "metadata": {},
   "outputs": [
    {
     "name": "stdout",
     "output_type": "stream",
     "text": [
      "2 > 3 = false\n",
      "2 < 3 = true\n",
      "2 >= 3 = false\n",
      "2 <= 3 = true\n"
     ]
    }
   ],
   "source": [
    "// simple expressions\n",
    "console.log(\"2 > 3 =\", 2 > 3)\n",
    "console.log(\"2 < 3 =\", 2 < 3)\n",
    "console.log(\"2 >= 3 =\", 2 >= 3)\n",
    "console.log(\"2 <= 3 =\", 2 <= 3)\n"
   ]
  },
  {
   "cell_type": "code",
   "execution_count": 12,
   "id": "fd723ab4-62fb-40d2-a14e-056579d25669",
   "metadata": {},
   "outputs": [
    {
     "name": "stdout",
     "output_type": "stream",
     "text": [
      "2 == 3 = false\n",
      "2 === 3 = false\n",
      "3 == '3' = true\n",
      "3 === '3' = false\n"
     ]
    }
   ],
   "source": [
    "//simple equal comparisons\n",
    "console.log(\"2 == 3 =\", 2 == 3)\n",
    "console.log(\"2 === 3 =\", 2 === 3)\n",
    "console.log(\"3 == '3' =\", 3 == \"3\")\n",
    "console.log(\"3 === '3' =\", 3 === \"3\")"
   ]
  },
  {
   "cell_type": "code",
   "execution_count": 18,
   "id": "693dbc38-1714-4b54-8667-6b1f785787e7",
   "metadata": {},
   "outputs": [
    {
     "name": "stdout",
     "output_type": "stream",
     "text": [
      "false\n",
      "true\n",
      "false\n"
     ]
    }
   ],
   "source": [
    "// camparing variables\n",
    "var number1 = 3\n",
    "var number2 = 6\n",
    "var string1 = \"3\"\n",
    "\n",
    "//numeric comparion\n",
    "console.log(number1 === number2)\n",
    "console.log(number1 <= number2)\n",
    "console.log(!(number1 !== number2))"
   ]
  },
  {
   "cell_type": "code",
   "execution_count": 25,
   "id": "da08b528-6f2c-4825-9370-3be52b8918a9",
   "metadata": {},
   "outputs": [
    {
     "name": "stdout",
     "output_type": "stream",
     "text": [
      "false\n",
      "false\n",
      "false\n",
      "false\n"
     ]
    }
   ],
   "source": [
    "//floating comparion\n",
    "// caution: be careful comparing floating point values\n",
    "// as you might not get what you expect\n",
    "var float1  = 1.2345\n",
    "var float2 = 3.14159\n",
    "console.log(float1 === float2)\n",
    "console.log(float2 === Math.pi)\n",
    "\n",
    "//string comparion\n",
    "var string1 = \"abc\"\n",
    "var string2 = \"ABC\"\n",
    "console.log(string1 === string2)\n",
    "console.log(string1 < string2)"
   ]
  },
  {
   "cell_type": "code",
   "execution_count": 26,
   "id": "cd18fc05-6b0a-468f-b48d-85790333333b",
   "metadata": {},
   "outputs": [
    {
     "name": "stdout",
     "output_type": "stream",
     "text": [
      "yes! 2 < 3!\n"
     ]
    }
   ],
   "source": [
    "//a simple decision\n",
    "\n",
    "if(2 < 3){console.log(\"yes! 2 < 3!\")\n",
    "         }"
   ]
  },
  {
   "cell_type": "code",
   "execution_count": 35,
   "id": "67179c28-0554-4875-9f27-b40ac1ce0cf8",
   "metadata": {},
   "outputs": [
    {
     "name": "stdout",
     "output_type": "stream",
     "text": [
      "Hi! Bob!\n"
     ]
    }
   ],
   "source": [
    "// decision using variables\n",
    "var name = \"Bob\"\n",
    "if (name === \"Bob\")\n",
    "    {\n",
    "        console.log(\"Hi! Bob!\")\n",
    "    }"
   ]
  },
  {
   "cell_type": "code",
   "execution_count": 37,
   "id": "6ab9ed01-833d-4fe2-a965-ba7bd86e467c",
   "metadata": {},
   "outputs": [
    {
     "name": "stdout",
     "output_type": "stream",
     "text": [
      "1 != 2\n"
     ]
    }
   ],
   "source": [
    "//if - else statement\n",
    "var number1 = 1\n",
    "if (number1 === 2)\n",
    "    {\n",
    "        console.log(\"Hi! Bob!\")\n",
    "    }\n",
    "else \n",
    "    {\n",
    "        console.log(\"1 != 2\")\n",
    "     }"
   ]
  },
  {
   "cell_type": "code",
   "execution_count": null,
   "id": "110375a2-5a2f-443b-b472-ac48b4f0e9ca",
   "metadata": {},
   "outputs": [],
   "source": []
  }
 ],
 "metadata": {
  "kernelspec": {
   "display_name": "Javascript (Node.js)",
   "language": "javascript",
   "name": "javascript"
  },
  "language_info": {
   "file_extension": ".js",
   "mimetype": "application/javascript",
   "name": "javascript",
   "version": "16.9.1"
  }
 },
 "nbformat": 4,
 "nbformat_minor": 5
}
