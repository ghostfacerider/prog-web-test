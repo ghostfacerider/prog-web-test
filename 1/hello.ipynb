{
 "cells": [
  {
   "cell_type": "code",
   "execution_count": null,
   "metadata": {},
   "outputs": [],
   "source": []
  },
  {
   "cell_type": "code",
   "execution_count": 2,
   "metadata": {},
   "outputs": [
    {
     "name": "stdout",
     "output_type": "stream",
     "text": [
      "hello world\n"
     ]
    }
   ],
   "source": [
    "console.log(\"hello world\")"
   ]
  },
  {
   "cell_type": "markdown",
   "metadata": {},
   "source": []
  },
  {
   "cell_type": "code",
   "execution_count": 2,
   "metadata": {},
   "outputs": [
    {
     "name": "stdout",
     "output_type": "stream",
     "text": [
      "hello, gendy\n"
     ]
    }
   ],
   "source": [
    "var myName = \"gendy\" \r\n",
    "console.log(\"hello,\",myName)"
   ]
  },
  {
   "cell_type": "code",
   "execution_count": 1,
   "metadata": {},
   "outputs": [
    {
     "data": {
      "text/plain": [
       "2"
      ]
     },
     "execution_count": 1,
     "metadata": {},
     "output_type": "execute_result"
    }
   ],
   "source": [
    "Math.floor(5/2)"
   ]
  },
  {
   "cell_type": "code",
   "execution_count": 2,
   "metadata": {},
   "outputs": [
    {
     "data": {
      "text/plain": [
       "'3.14159'"
      ]
     },
     "execution_count": 2,
     "metadata": {},
     "output_type": "execute_result"
    }
   ],
   "source": [
    "//remove some decimal points\r\n",
    "Math.PI.toFixed(5)"
   ]
  },
  {
   "cell_type": "code",
   "execution_count": 5,
   "metadata": {},
   "outputs": [
    {
     "name": "stdout",
     "output_type": "stream",
     "text": [
      "4660 1234 1001000110100\n"
     ]
    }
   ],
   "source": [
    "//hexadecimal\r\n",
    "var hex = 0x1234\r\n",
    "var dec = 1234\r\n",
    "console.log(hex, dec, hex.toString(2)) "
   ]
  },
  {
   "cell_type": "code",
   "execution_count": 7,
   "metadata": {},
   "outputs": [
    {
     "data": {
      "text/plain": [
       "'28'"
      ]
     },
     "execution_count": 7,
     "metadata": {},
     "output_type": "execute_result"
    }
   ],
   "source": [
    "// different data types\r\n",
    "2 + \"8\""
   ]
  },
  {
   "cell_type": "code",
   "execution_count": 8,
   "metadata": {},
   "outputs": [
    {
     "data": {
      "text/plain": [
       "'28'"
      ]
     },
     "execution_count": 8,
     "metadata": {},
     "output_type": "execute_result"
    }
   ],
   "source": [
    "// string concatenation\r\n",
    "\"hello,\" + \"something\"\r\n",
    "\"2\" + \"8\""
   ]
  },
  {
   "cell_type": "code",
   "execution_count": 9,
   "metadata": {},
   "outputs": [
    {
     "name": "stdout",
     "output_type": "stream",
     "text": [
      "some test\n"
     ]
    }
   ],
   "source": [
    "//fidderent uses of console.log\r\n",
    "// simple text\r\n",
    "console.log(\"some test\")"
   ]
  },
  {
   "cell_type": "code",
   "execution_count": 20,
   "metadata": {},
   "outputs": [
    {
     "name": "stdout",
     "output_type": "stream",
     "text": [
      "12345\n",
      "some text 12345 some more text\n",
      "num = 12345\n",
      "Name: bob Jones, ID: %S w12345\n",
      "Name: bob Jones, ID: w12345\n"
     ]
    }
   ],
   "source": [
    "// variable\r\n",
    "var num = 12345\r\n",
    "console.log(num)\r\n",
    "\r\n",
    "// multipe items \r\n",
    "console.log( \"some text\", num, \"some more text\",)\r\n",
    "\r\n",
    "//variable substition\r\n",
    "console.log(\"num = %i\", num)\r\n",
    "\r\n",
    "var firstName = \"bob\"\r\n",
    "var lastname = \"Jones\"\r\n",
    "var studentID = \"w12345\"\r\n",
    "console.log(\"Name: %s %s, ID: %S\", firstName, lastname, studentID)\r\n",
    "\r\n",
    "\r\n",
    "//newer variable substitution\r\n",
    "var firstName = \"bob\"\r\n",
    "var lastname = \"Jones\"\r\n",
    "var studentID = \"w12345\"\r\n",
    "console.log(`Name: ${firstName} ${lastname}, ID: ${studentID}`)"
   ]
  },
  {
   "cell_type": "code",
   "execution_count": 21,
   "metadata": {},
   "outputs": [
    {
     "data": {
      "text/plain": [
       "'-*--*--*--*--*--*--*--*--*--*-'"
      ]
     },
     "execution_count": 21,
     "metadata": {},
     "output_type": "execute_result"
    }
   ],
   "source": [
    "//repeat characters \r\n",
    "\"-*-\".repeat(10)"
   ]
  },
  {
   "cell_type": "code",
   "execution_count": null,
   "metadata": {},
   "outputs": [],
   "source": [
    "// question: Determine the Y coordinate for the formula y = mx + b\n",
    "var m = -4\n",
    "var b = 6\n",
    "\n",
    "//assume x = 0\n",
    "var y = m * 0 + b\n",
    "\n",
    "//print the answer\n",
    "concole.log('For y = ${m}X + ${b}, the line crossed the Y-axis at y =\n",
    "            \n",
    "            \n",
    "            \n",
    "            \n",
    "x = (-b - math.sqrt(b^2 -4ac)) / 2a\n",
    "           "
   ]
  }
 ],
 "metadata": {
  "kernelspec": {
   "display_name": "Javascript (Node.js)",
   "language": "javascript",
   "name": "javascript"
  },
  "language_info": {
   "file_extension": ".js",
   "mimetype": "application/javascript",
   "name": "javascript",
   "version": "16.9.1"
  }
 },
 "nbformat": 4,
 "nbformat_minor": 4
}
