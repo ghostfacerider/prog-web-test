{
 "cells": [
  {
   "cell_type": "code",
   "execution_count": 1,
   "source": [
    "false"
   ],
   "outputs": [
    {
     "output_type": "execute_result",
     "data": {
      "text/plain": [
       "false"
      ]
     },
     "metadata": {},
     "execution_count": 1
    }
   ],
   "metadata": {}
  },
  {
   "cell_type": "code",
   "execution_count": 3,
   "source": [
    "\r\n",
    "var myBoolean = true\r\n",
    "console.log(myBoolean)"
   ],
   "outputs": [
    {
     "output_type": "stream",
     "name": "stdout",
     "text": [
      "true\n"
     ]
    }
   ],
   "metadata": {}
  },
  {
   "cell_type": "code",
   "execution_count": 5,
   "source": [
    "// not a boolean\r\n",
    "var yesString = \"yes\"\r\n",
    "var noNumber = 1"
   ],
   "outputs": [],
   "metadata": {}
  },
  {
   "cell_type": "code",
   "execution_count": 7,
   "source": [
    "// simple expressions\r\n",
    "console.log(\"2 > 3 =\", 2 > 3)\r\n",
    "console.log(\"2 < 3 =\", 2 < 3)\r\n",
    "console.log(\"2 >= 3 =\", 2 >= 3)\r\n",
    "console.log(\"2 <= 3 =\", 2 <= 3)\r\n"
   ],
   "outputs": [
    {
     "output_type": "stream",
     "name": "stdout",
     "text": [
      "2 > 3 = false\n",
      "2 < 3 = true\n",
      "2 >= 3 = false\n",
      "2 <= 3 = true\n"
     ]
    }
   ],
   "metadata": {}
  },
  {
   "cell_type": "code",
   "execution_count": 12,
   "source": [
    "//simple equal comparisons\r\n",
    "console.log(\"2 == 3 =\", 2 == 3)\r\n",
    "console.log(\"2 === 3 =\", 2 === 3)\r\n",
    "console.log(\"3 == '3' =\", 3 == \"3\")\r\n",
    "console.log(\"3 === '3' =\", 3 === \"3\")"
   ],
   "outputs": [
    {
     "output_type": "stream",
     "name": "stdout",
     "text": [
      "2 == 3 = false\n",
      "2 === 3 = false\n",
      "3 == '3' = true\n",
      "3 === '3' = false\n"
     ]
    }
   ],
   "metadata": {}
  },
  {
   "cell_type": "code",
   "execution_count": 18,
   "source": [
    "// camparing variables\r\n",
    "var number1 = 3\r\n",
    "var number2 = 6\r\n",
    "var string1 = \"3\"\r\n",
    "\r\n",
    "//numeric comparion\r\n",
    "console.log(number1 === number2)\r\n",
    "console.log(number1 <= number2)\r\n",
    "console.log(!(number1 !== number2))"
   ],
   "outputs": [
    {
     "output_type": "stream",
     "name": "stdout",
     "text": [
      "false\n",
      "true\n",
      "false\n"
     ]
    }
   ],
   "metadata": {}
  },
  {
   "cell_type": "code",
   "execution_count": 25,
   "source": [
    "//floating comparion\r\n",
    "// caution: be careful comparing floating point values\r\n",
    "// as you might not get what you expect\r\n",
    "var float1  = 1.2345\r\n",
    "var float2 = 3.14159\r\n",
    "console.log(float1 === float2)\r\n",
    "console.log(float2 === Math.pi)\r\n",
    "\r\n",
    "//string comparion\r\n",
    "var string1 = \"abc\"\r\n",
    "var string2 = \"ABC\"\r\n",
    "console.log(string1 === string2)\r\n",
    "console.log(string1 < string2)"
   ],
   "outputs": [
    {
     "output_type": "stream",
     "name": "stdout",
     "text": [
      "false\n",
      "false\n",
      "false\n",
      "false\n"
     ]
    }
   ],
   "metadata": {}
  },
  {
   "cell_type": "code",
   "execution_count": 26,
   "source": [
    "//a simple decision\r\n",
    "\r\n",
    "if(2 < 3){console.log(\"yes! 2 < 3!\")\r\n",
    "         }"
   ],
   "outputs": [
    {
     "output_type": "stream",
     "name": "stdout",
     "text": [
      "yes! 2 < 3!\n"
     ]
    }
   ],
   "metadata": {}
  },
  {
   "cell_type": "code",
   "execution_count": 35,
   "source": [
    "// decision using variables\r\n",
    "var name = \"Bob\"\r\n",
    "if (name === \"Bob\")\r\n",
    "    {\r\n",
    "        console.log(\"Hi! Bob!\")\r\n",
    "    }"
   ],
   "outputs": [
    {
     "output_type": "stream",
     "name": "stdout",
     "text": [
      "Hi! Bob!\n"
     ]
    }
   ],
   "metadata": {}
  },
  {
   "cell_type": "code",
   "execution_count": 37,
   "source": [
    "//if - else statement\r\n",
    "var name = \"Bob\"\r\n",
    "if (name === \"Bob\")\r\n",
    "    {\r\n",
    "        console.log(\"Hi! Bob!\")\r\n",
    "    }"
   ],
   "outputs": [
    {
     "output_type": "stream",
     "name": "stdout",
     "text": [
      "1 != 2\n"
     ]
    }
   ],
   "metadata": {}
  },
  {
   "cell_type": "code",
   "execution_count": 3,
   "source": [
    "//nestd if statements\r\n",
    "var code = \"p@sswo0d\"\r\n",
    "if (code === \"p@ssw0rd\")\r\n",
    "    {\r\n",
    "        console.log(\"Welcome, user!\")\r\n",
    "    }\r\n",
    "else if (code === \"admin1strator\") \r\n",
    "            {\r\n",
    "                console.log(\"welcome, Lord\")\r\n",
    "            }\r\n",
    "else if (code === \"superAdministrat0r\") \r\n",
    "            {\r\n",
    "                console.log(\"All hail!\")\r\n",
    "            }\r\n",
    "else (\r\n",
    "    console.log (\"login failed\")\r\n",
    ")\r\n",
    "    "
   ],
   "outputs": [
    {
     "output_type": "stream",
     "name": "stdout",
     "text": [
      "login failed\n"
     ]
    }
   ],
   "metadata": {}
  },
  {
   "cell_type": "code",
   "execution_count": 4,
   "source": [
    "// compound if statment\r\n",
    "var number1 =123\r\n",
    "var name = \"john\"\r\n",
    "if(number1 === 123 && name === \"john\")\r\n",
    "    {\r\n",
    "        console.log( Hi, \"John\")\r\n",
    "    }\r\n",
    "if (number1 === 123 || name === \"john\") \r\n",
    "    {\r\n",
    "        console.log(\"or!\")\r\n",
    "    }"
   ],
   "outputs": [
    {
     "output_type": "error",
     "ename": "ReferenceError",
     "evalue": "Hi is not defined",
     "traceback": [
      "evalmachine.<anonymous>:6",
      "        console.log(Hi, \"John\")",
      "                    ^",
      "",
      "ReferenceError: Hi is not defined",
      "    at evalmachine.<anonymous>:6:21",
      "    at Script.runInThisContext (node:vm:129:12)",
      "    at Object.runInThisContext (node:vm:305:38)",
      "    at run ([eval]:1054:15)",
      "    at onRunRequest ([eval]:888:18)",
      "    at onMessage ([eval]:848:13)",
      "    at process.emit (node:events:394:28)",
      "    at emit (node:internal/child_process:917:12)",
      "    at processTicksAndRejections (node:internal/process/task_queues:84:21)"
     ]
    }
   ],
   "metadata": {}
  },
  {
   "cell_type": "code",
   "execution_count": 11,
   "source": [
    "var number1 = 123\r\n",
    "var boolean1 = false\r\n",
    "var string1 = \"password\"\r\n",
    "var float1 = 3.1\r\n",
    "var character1 = 'x'\r\n",
    "\r\n",
    "if((number1 === 123 && boolean1 === false) && \r\n",
    "(string1 === \"password\" && float1 === 3.1 && character1 === 'x'))\r\n",
    "{\r\n",
    "    console.log(\"wow.. Thats long\")\r\n",
    "}"
   ],
   "outputs": [
    {
     "output_type": "stream",
     "name": "stdout",
     "text": [
      "wow.. Thats long\n"
     ]
    }
   ],
   "metadata": {}
  },
  {
   "cell_type": "code",
   "execution_count": null,
   "source": [],
   "outputs": [],
   "metadata": {}
  }
 ],
 "metadata": {
  "kernelspec": {
   "display_name": "Javascript (Node.js)",
   "language": "javascript",
   "name": "javascript"
  },
  "language_info": {
   "file_extension": ".js",
   "mimetype": "application/javascript",
   "name": "javascript",
   "version": "16.9.1"
  }
 },
 "nbformat": 4,
 "nbformat_minor": 5
}